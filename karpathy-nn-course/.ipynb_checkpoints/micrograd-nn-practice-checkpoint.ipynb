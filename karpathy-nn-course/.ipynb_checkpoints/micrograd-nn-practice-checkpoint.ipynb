{
 "cells": [
  {
   "cell_type": "code",
   "execution_count": 3,
   "id": "28f7e263",
   "metadata": {},
   "outputs": [],
   "source": [
    "import math\n",
    "import numpy as np\n",
    "import matplotlib.pyplot as plt\n",
    "%matplotlib inline"
   ]
  },
  {
   "cell_type": "code",
   "execution_count": 4,
   "id": "ffabb063",
   "metadata": {},
   "outputs": [],
   "source": [
    "def f(x):\n",
    "    return 4*x*x-3*x+2"
   ]
  },
  {
   "cell_type": "code",
   "execution_count": 6,
   "id": "23f68527",
   "metadata": {},
   "outputs": [],
   "source": [
    "xs = np.arange(-5,5,0.25)\n",
    "ys = f(xs)"
   ]
  },
  {
   "cell_type": "code",
   "execution_count": 11,
   "id": "5eaaa34c",
   "metadata": {},
   "outputs": [
    {
     "data": {
      "text/plain": [
       "29.0"
      ]
     },
     "execution_count": 11,
     "metadata": {},
     "output_type": "execute_result"
    }
   ],
   "source": [
    "f(3.0)"
   ]
  },
  {
   "cell_type": "code",
   "execution_count": 8,
   "id": "b5c061b8",
   "metadata": {},
   "outputs": [
    {
     "data": {
      "text/plain": [
       "[<matplotlib.lines.Line2D at 0x7ff5611f6c40>]"
      ]
     },
     "execution_count": 8,
     "metadata": {},
     "output_type": "execute_result"
    },
    {
     "data": {
      "image/png": "[encoded data removed]",
      "text/plain": [
       "<Figure size 432x288 with 1 Axes>"
      ]
     },
     "metadata": {
      "needs_background": "light"
     },
     "output_type": "display_data"
    }
   ],
   "source": [
    "plt.plot(xs,ys)"
   ]
  },
  {
   "cell_type": "code",
   "execution_count": 37,
   "id": "4f818ed7",
   "metadata": {},
   "outputs": [],
   "source": [
    "class Value:\n",
    "    \n",
    "    def __init__(self,data,_children=(),op=''):\n",
    "        self.data=data\n",
    "        self._prev=set(_children)\n",
    "        self.op=op\n",
    "    \n",
    "    def __repr__(self):\n",
    "        return f\"Value(data={self.data})\"\n",
    "    \n",
    "    def __add__(self,other):\n",
    "        return Value(self.data + other.data,(self,other),'+')\n",
    "    \n",
    "    def __mul__(self,other):\n",
    "        return Value(self.data * other.data,(self,other),'*')\n",
    "    \n",
    "    def exp(self):\n",
    "        return \n",
    "        "
   ]
  },
  {
   "cell_type": "code",
   "execution_count": 38,
   "id": "5a7f4ff2",
   "metadata": {},
   "outputs": [],
   "source": [
    "a=Value(data=2.0)\n",
    "b= Value(-3.0)\n",
    "a+b\n",
    "c=a*b"
   ]
  },
  {
   "cell_type": "code",
   "execution_count": 40,
   "id": "51bc3937",
   "metadata": {},
   "outputs": [
    {
     "data": {
      "text/plain": [
       "(Value(data=-6.0), {Value(data=-3.0), Value(data=2.0)}, '*')"
      ]
     },
     "execution_count": 40,
     "metadata": {},
     "output_type": "execute_result"
    }
   ],
   "source": [
    "c,c._prev,c.op"
   ]
  },
  {
   "cell_type": "code",
   "execution_count": null,
   "id": "72ba35b1",
   "metadata": {},
   "outputs": [],
   "source": []
  }
 ],
 "metadata": {
  "kernelspec": {
   "display_name": "Python 3 (ipykernel)",
   "language": "python",
   "name": "python3"
  },
  "language_info": {
   "codemirror_mode": {
    "name": "ipython",
    "version": 3
   },
   "file_extension": ".py",
   "mimetype": "text/x-python",
   "name": "python",
   "nbconvert_exporter": "python",
   "pygments_lexer": "ipython3",
   "version": "3.9.7"
  }
 },
 "nbformat": 4,
 "nbformat_minor": 5
}
